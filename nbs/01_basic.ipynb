{
 "cells": [
  {
   "cell_type": "markdown",
   "id": "b92974ff",
   "metadata": {},
   "source": [
    "# Basic"
   ]
  },
  {
   "cell_type": "code",
   "execution_count": null,
   "id": "e038e05a",
   "metadata": {},
   "outputs": [],
   "source": [
    "from nbdev_demo.core import *"
   ]
  },
  {
   "cell_type": "code",
   "execution_count": null,
   "id": "48c472ee",
   "metadata": {},
   "outputs": [
    {
     "data": {
      "text/plain": [
       "3"
      ]
     },
     "execution_count": null,
     "metadata": {},
     "output_type": "execute_result"
    }
   ],
   "source": [
    "add(1,2)"
   ]
  }
 ],
 "metadata": {
  "kernelspec": {
   "display_name": "python3",
   "language": "python",
   "name": "python3"
  }
 },
 "nbformat": 4,
 "nbformat_minor": 5
}
